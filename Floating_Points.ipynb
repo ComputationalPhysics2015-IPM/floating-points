{
 "cells": [
  {
   "cell_type": "markdown",
   "metadata": {},
   "source": [
    "Floating Points\n",
    "========"
   ]
  },
  {
   "cell_type": "markdown",
   "metadata": {},
   "source": [
    "Lets start with a simple example:\n",
    "    $10^9 \\times 10^{-9} = ?$    \n",
    "    It is supposed to be 1. "
   ]
  },
  {
   "cell_type": "code",
   "execution_count": 1,
   "metadata": {
    "collapsed": false
   },
   "outputs": [
    {
     "name": "stdout",
     "output_type": "stream",
     "text": [
      "0.9999999925399329\n"
     ]
    }
   ],
   "source": [
    "a = 0\n",
    "dx = 10**-9\n",
    "for i in range(10**9):\n",
    "    a += dx\n",
    "print(a)"
   ]
  },
  {
   "cell_type": "markdown",
   "metadata": {},
   "source": [
    "It is not! lets try another example,\n",
    "$2^{30} \\times 2^{-30}$"
   ]
  },
  {
   "cell_type": "code",
   "execution_count": 2,
   "metadata": {
    "collapsed": false
   },
   "outputs": [
    {
     "name": "stdout",
     "output_type": "stream",
     "text": [
      "1.0\n"
     ]
    }
   ],
   "source": [
    "a = 0\n",
    "dx = 2**-30\n",
    "for i in range(2**30):\n",
    "    a += dx\n",
    "print(a)"
   ]
  },
  {
   "cell_type": "markdown",
   "metadata": {},
   "source": [
    "This time the summation seems correct. That is the same as 2/3 = 0.6666...667\n",
    "Such an error could cost people's life and money: http://ta.twi.tudelft.nl/nw/users/vuik/wi211/disasters.html"
   ]
  },
  {
   "cell_type": "markdown",
   "metadata": {},
   "source": [
    "That is the result of how floating points are handeled in PC:\n",
    "[IEEE floating point](https://en.wikipedia.org/wiki/IEEE_floating_point)"
   ]
  },
  {
   "cell_type": "markdown",
   "metadata": {},
   "source": [
    "Now lets observe other errors."
   ]
  },
  {
   "cell_type": "markdown",
   "metadata": {},
   "source": [
    "Substraction\n",
    "-------------\n",
    "$\\hat{a} = (1+10^{-16}) - (1-10^{-16})$\n",
    "\n",
    "$\\Delta a = \\hat{a} - a$\n",
    "\n",
    "$\\frac{\\Delta a}{a} = ?$"
   ]
  },
  {
   "cell_type": "code",
   "execution_count": 6,
   "metadata": {
    "collapsed": false
   },
   "outputs": [
    {
     "data": {
      "text/plain": [
       "-0.44488848768742173"
      ]
     },
     "execution_count": 6,
     "metadata": {},
     "output_type": "execute_result"
    }
   ],
   "source": [
    "a = 2*10**-16\n",
    "a_ = (1+10**-16)-(1-10**-16)\n",
    "(a_-a)/a"
   ]
  },
  {
   "cell_type": "code",
   "execution_count": 8,
   "metadata": {
    "collapsed": false
   },
   "outputs": [
    {
     "data": {
      "text/plain": [
       "0.0"
      ]
     },
     "execution_count": 8,
     "metadata": {},
     "output_type": "execute_result"
    }
   ],
   "source": [
    "a = 2*10**-16\n",
    "a_ = (1-1+10**-16+10**-16)\n",
    "(a_-a)/a"
   ]
  },
  {
   "cell_type": "markdown",
   "metadata": {},
   "source": [
    "Small numbers\n",
    "--------------\n",
    "\n",
    "Calculate this sum: $1 + \\sum^{10^7} 10^{-16}$"
   ]
  },
  {
   "cell_type": "code",
   "execution_count": 11,
   "metadata": {
    "collapsed": false
   },
   "outputs": [
    {
     "name": "stdout",
     "output_type": "stream",
     "text": [
      "1.0\n"
     ]
    }
   ],
   "source": [
    "s = 1\n",
    "for i in range(10**7):\n",
    "    s+=10**-16\n",
    "print(s)"
   ]
  },
  {
   "cell_type": "code",
   "execution_count": 10,
   "metadata": {
    "collapsed": false
   },
   "outputs": [
    {
     "name": "stdout",
     "output_type": "stream",
     "text": [
      "1.000000001\n"
     ]
    }
   ],
   "source": [
    "s = 0\n",
    "for i in range(10**7):\n",
    "    s+=10**-16\n",
    "s+=1\n",
    "print(s)"
   ]
  },
  {
   "cell_type": "markdown",
   "metadata": {},
   "source": [
    "![The Architect](http://vignette2.wikia.nocookie.net/matrix/images/f/f3/Architect_%26_neo.png/revision/latest?cb=20110216143803)"
   ]
  }
 ],
 "metadata": {
  "kernelspec": {
   "display_name": "Python 3",
   "language": "python",
   "name": "python3"
  },
  "language_info": {
   "codemirror_mode": {
    "name": "ipython",
    "version": 3
   },
   "file_extension": ".py",
   "mimetype": "text/x-python",
   "name": "python",
   "nbconvert_exporter": "python",
   "pygments_lexer": "ipython3",
   "version": "3.4.3+"
  }
 },
 "nbformat": 4,
 "nbformat_minor": 0
}
